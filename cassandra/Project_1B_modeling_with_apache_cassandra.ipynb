{
 "cells": [
  {
   "cell_type": "markdown",
   "metadata": {
    "editable": true
   },
   "source": [
    "# Part I. ETL Pipeline for Pre-Processing the Files"
   ]
  },
  {
   "cell_type": "code",
   "execution_count": 1,
   "metadata": {
    "editable": true
   },
   "outputs": [],
   "source": [
    "import pandas as pd\n",
    "import cassandra\n",
    "import re\n",
    "import os\n",
    "import glob\n",
    "import numpy as np\n",
    "import json\n",
    "import csv"
   ]
  },
  {
   "cell_type": "markdown",
   "metadata": {
    "editable": true
   },
   "source": [
    "#### Creating list of filepaths to process original event csv data files"
   ]
  },
  {
   "cell_type": "code",
   "execution_count": 2,
   "metadata": {
    "editable": true
   },
   "outputs": [],
   "source": [
    "# Get the current folder and subfolder event data\n",
    "filepath = os.getcwd() + '/event_data'\n",
    "\n",
    "# Create a for loop to create a list of files and collect each filepath\n",
    "for root, dirs, files in os.walk(filepath):\n",
    "    \n",
    "# Join the file path and roots with the subdirectories\n",
    "    file_path_list = glob.glob(os.path.join(root,'*'))"
   ]
  },
  {
   "cell_type": "markdown",
   "metadata": {
    "editable": true
   },
   "source": [
    "#### Processing the files to create the data file csv that will be used for Apache Casssandra tables"
   ]
  },
  {
   "cell_type": "code",
   "execution_count": 3,
   "metadata": {
    "editable": true
   },
   "outputs": [],
   "source": [
    "# initiating an empty list of rows that will be generated from each file\n",
    "full_data_rows_list = [] \n",
    "    \n",
    "# for every filepath in the file path list \n",
    "for f in file_path_list:\n",
    "\n",
    "# reading csv file \n",
    "    with open(f, 'r', encoding = 'utf8', newline='') as csvfile: \n",
    "        # creating a csv reader object \n",
    "        csvreader = csv.reader(csvfile) \n",
    "        next(csvreader)\n",
    "        \n",
    " # extracting each data row one by one and append it        \n",
    "        for line in csvreader:\n",
    "            #print(line)\n",
    "            full_data_rows_list.append(line) \n",
    "\n",
    "# Creating a smaller event data csv file called event_datafile_full csv that will be used to insert data into the \\\n",
    "# Apache Cassandra tables\n",
    "csv.register_dialect('myDialect', quoting=csv.QUOTE_ALL, skipinitialspace=True)\n",
    "\n",
    "file = 'event_datafile_new.csv'\n",
    "\n",
    "with open(file, 'w', encoding = 'utf8', newline='') as f:\n",
    "    writer = csv.writer(f, dialect='myDialect')\n",
    "    writer.writerow(['artist','firstName','gender','itemInSession','lastName','length',\\\n",
    "                'level','location','sessionId','song','userId'])\n",
    "    for row in full_data_rows_list:\n",
    "        if (row[0] == ''):\n",
    "            continue\n",
    "        writer.writerow((row[0], row[2], row[3], row[4], row[5], row[6], row[7], row[8], row[12], row[13], row[16]))\n"
   ]
  },
  {
   "cell_type": "code",
   "execution_count": 4,
   "metadata": {
    "editable": true
   },
   "outputs": [
    {
     "name": "stdout",
     "output_type": "stream",
     "text": [
      "6821\n"
     ]
    }
   ],
   "source": [
    "# check the number of rows in the csv file\n",
    "with open(file, 'r', encoding = 'utf8') as f:\n",
    "    print(sum(1 for line in f))"
   ]
  },
  {
   "cell_type": "markdown",
   "metadata": {
    "editable": true
   },
   "source": [
    "# Part II. Apache Cassandra modeling\n",
    "\n",
    "## The event_datafile_new.csv contains the following columns: \n",
    "- artist \n",
    "- firstName of user\n",
    "- gender of user\n",
    "- item number in session\n",
    "- last name of user\n",
    "- length of the song\n",
    "- level (paid or free song)\n",
    "- location of the user\n",
    "- sessionId\n",
    "- song title\n",
    "- userId\n",
    "\n",
    "The image below is a screenshot of what the denormalized data should appear like in the <font color=red>**event_datafile_new.csv**</font> after the code above is run:<br>\n",
    "\n",
    "<img src=\"images/image_event_datafile_new.jpg\">"
   ]
  },
  {
   "cell_type": "markdown",
   "metadata": {
    "editable": true
   },
   "source": [
    "#### Creating a Cluster"
   ]
  },
  {
   "cell_type": "code",
   "execution_count": 5,
   "metadata": {
    "editable": true
   },
   "outputs": [],
   "source": [
    "# Connect to a Cassandra instance on your local machine \n",
    "from cassandra.cluster import Cluster\n",
    "cluster = Cluster()\n",
    "\n",
    "try:\n",
    "    # Create cluster object\n",
    "    cluster = Cluster(['127.0.0.1'])\n",
    "    # Create a session to connect to the cluster and begin executing queries\n",
    "    session = cluster.connect()\n",
    "except Exception as e:\n",
    "    print(e)"
   ]
  },
  {
   "cell_type": "markdown",
   "metadata": {
    "editable": true
   },
   "source": [
    "#### Create Keyspace"
   ]
  },
  {
   "cell_type": "code",
   "execution_count": 6,
   "metadata": {
    "editable": true
   },
   "outputs": [],
   "source": [
    "try:\n",
    "    session.execute(\"\"\"\n",
    "    CREATE KEYSPACE IF NOT EXISTS sparkify \n",
    "    WITH REPLICATION = \n",
    "    { 'class' : 'SimpleStrategy', 'replication_factor' : 1 }\"\"\"\n",
    ")\n",
    "\n",
    "except Exception as e:\n",
    "    print(e)"
   ]
  },
  {
   "cell_type": "markdown",
   "metadata": {
    "editable": true
   },
   "source": [
    "#### Set Keyspace"
   ]
  },
  {
   "cell_type": "code",
   "execution_count": 7,
   "metadata": {
    "editable": true
   },
   "outputs": [],
   "source": [
    "try:\n",
    "    session.set_keyspace('sparkify')\n",
    "except Exception as e:\n",
    "    print(e)"
   ]
  },
  {
   "cell_type": "markdown",
   "metadata": {
    "editable": true
   },
   "source": [
    "### Now we need to create tables to run the following queries. With Apache Cassandra we want to model the database tables on the queries we want to run."
   ]
  },
  {
   "cell_type": "markdown",
   "metadata": {
    "editable": true
   },
   "source": [
    "## The following three questions need to be answered:\n",
    "\n",
    "### 1. Give me the artist, song title and song's length in the music app history that was heard during  sessionId = 338, and itemInSession  = 4\n",
    "\n",
    "\n",
    "### 2. Give me only the following: name of artist, song (sorted by itemInSession) and user (first and last name) for userid = 10, sessionid = 182\n",
    "    \n",
    "\n",
    "### 3. Give me every user name (first and last) in my music app history who listened to the song 'All Hands Against His Own'\n",
    "\n",
    "\n"
   ]
  },
  {
   "cell_type": "markdown",
   "metadata": {
    "editable": true
   },
   "source": [
    "### Query 1\n",
    "- This query must be modeled so that the columns *artist*, *song title* and *song's length* are selected by applying  sessionId and itemInSession as filters. These two in combination will create unique rows therefore we will use them together as a composite primary key."
   ]
  },
  {
   "cell_type": "code",
   "execution_count": 8,
   "metadata": {
    "editable": true
   },
   "outputs": [],
   "source": [
    "create_table_query1 = \"\"\"\n",
    "CREATE TABLE IF NOT EXISTS played_song(\n",
    "session_id INT\n",
    ", session_item INT\n",
    ", artist_name TEXT\n",
    ", song_title TEXT\n",
    ", song_length FLOAT\n",
    ", PRIMARY KEY(session_id,session_item)\n",
    ")\n",
    "\"\"\"\n",
    "\n",
    "try:\n",
    "    session.execute(create_table_query1)\n",
    "except Exception as e:\n",
    "    print(e)"
   ]
  },
  {
   "cell_type": "code",
   "execution_count": 9,
   "metadata": {
    "editable": true
   },
   "outputs": [],
   "source": [
    "insert_query1 = \"\"\"\n",
    "INSERT INTO played_song(\n",
    "session_id\n",
    ", session_item\n",
    ", artist_name\n",
    ", song_title\n",
    ", song_length)\n",
    "VALUES (%s,%s,%s,%s,%s)\n",
    "\"\"\"\n",
    "\n",
    "with open(file, encoding = 'utf8') as f:\n",
    "    csvreader = csv.reader(f)\n",
    "    next(csvreader) # skip header\n",
    "    for line in csvreader:\n",
    "        # Identify the corresponding columns by line indexes\n",
    "        session_id = int(line[8])\n",
    "        session_item = int(line[3])\n",
    "        artist_name = line[0]\n",
    "        song_title = line[9]\n",
    "        song_length = float(line[5])\n",
    "        \n",
    "        # Execute the insert query\n",
    "        try:\n",
    "            session.execute(insert_query1, (session_id,session_item,artist_name,song_title,song_length))\n",
    "        except Exception as e:\n",
    "            print(e)\n",
    "            break"
   ]
  },
  {
   "cell_type": "code",
   "execution_count": 10,
   "metadata": {
    "editable": true
   },
   "outputs": [
    {
     "name": "stdout",
     "output_type": "stream",
     "text": [
      "Faithless Music Matters (Mark Knight Dub) 495.30731201171875\n"
     ]
    }
   ],
   "source": [
    "select_query1 = \"\"\"\n",
    "SELECT artist_name, song_title, song_length FROM played_song \n",
    "WHERE session_id = 338 AND session_item = 4\n",
    "\"\"\"\n",
    "\n",
    "try:\n",
    "    rows = session.execute(select_query1)\n",
    "    for row in rows:\n",
    "        print(row.artist_name, row.song_title, row.song_length)\n",
    "except Exception as e:\n",
    "    print(e)"
   ]
  },
  {
   "cell_type": "markdown",
   "metadata": {
    "editable": true
   },
   "source": [
    "### Query 2\n",
    "- This query must be modeled so that the *name of the user* and all *songs* and *artists* played in a session are selected in the order in which the songs were played by applying userId and sessionId as filters. We will use userId, sessionId and  sessionItem as primary key which will be composed of userId and sessionId as a composite partition key to make sure all session items are stored in one node for fast data retrieval, and sessionItem as clustering column so that when selecting the songs they appear in the order in which they were played."
   ]
  },
  {
   "cell_type": "code",
   "execution_count": 11,
   "metadata": {
    "editable": true
   },
   "outputs": [],
   "source": [
    "create_table_query2 = \"\"\"\n",
    "CREATE TABLE IF NOT EXISTS session_songs(\n",
    "user_id INT\n",
    ", session_id INT\n",
    ", session_item INT\n",
    ", first_name TEXT\n",
    ", last_name TEXT\n",
    ", artist_name TEXT\n",
    ", song_title TEXT\n",
    ", PRIMARY KEY((user_id,session_id),session_item)\n",
    ")\n",
    "\"\"\"\n",
    "\n",
    "try:\n",
    "    session.execute(create_table_query2)\n",
    "except Exception as e:\n",
    "    print(e)"
   ]
  },
  {
   "cell_type": "code",
   "execution_count": 12,
   "metadata": {
    "editable": true
   },
   "outputs": [],
   "source": [
    "insert_query2 = \"\"\"\n",
    "INSERT INTO session_songs(\n",
    "user_id\n",
    ", session_id\n",
    ", session_item\n",
    ", first_name\n",
    ", last_name\n",
    ", artist_name\n",
    ", song_title\n",
    ")\n",
    "VALUES (%s,%s,%s,%s,%s,%s,%s)\n",
    "\"\"\"\n",
    "\n",
    "with open(file, encoding = 'utf8') as f:\n",
    "    csvreader = csv.reader(f)\n",
    "    next(csvreader) # skip header\n",
    "    for line in csvreader:\n",
    "        # Identify the corresponding columns by line indexes\n",
    "        user_id = int(line[10])\n",
    "        session_id = int(line[8])\n",
    "        session_item = int(line[3])\n",
    "        first_name = line[1]\n",
    "        last_name = line[4]\n",
    "        artist_name = line[0]\n",
    "        song_title = line[9]\n",
    "        \n",
    "        # Execute the insert query\n",
    "        try:\n",
    "            session.execute(insert_query2, (user_id, session_id, session_item, first_name, last_name, artist_name, song_title))\n",
    "        except Exception as e:\n",
    "            print(e)\n",
    "            break"
   ]
  },
  {
   "cell_type": "code",
   "execution_count": 13,
   "metadata": {
    "editable": true
   },
   "outputs": [
    {
     "name": "stdout",
     "output_type": "stream",
     "text": [
      "Sylvie Cruz Down To The Bone Keep On Keepin' On 0\n",
      "Sylvie Cruz Three Drives Greece 2000 1\n",
      "Sylvie Cruz Sebastien Tellier Kilometer 2\n",
      "Sylvie Cruz Lonnie Gordon Catch You Baby (Steve Pitron & Max Sanna Radio Edit) 3\n"
     ]
    }
   ],
   "source": [
    "select_query2 = \"\"\"\n",
    "SELECT user_id, session_id, session_item, first_name, last_name, artist_name, song_title FROM session_songs \n",
    "WHERE user_id = 10 AND session_id = 182\n",
    "\"\"\"\n",
    "\n",
    "try:\n",
    "    rows = session.execute(select_query2)\n",
    "    for row in rows:\n",
    "        print(row.first_name, row.last_name\n",
    "              , row.artist_name, row.song_title, row.session_item)\n",
    "except Exception as e:\n",
    "    print(e)"
   ]
  },
  {
   "cell_type": "markdown",
   "metadata": {
    "editable": true
   },
   "source": [
    "### Query 3\n",
    "- This query must be modeled so that the *names of all users* who listened to a song are selected by searching the song title. We will use the song title and userId as composite primary key. The song title will be the partition key to make sure all data relating to one song is stored in one node. userId will be the clustering column because it will always be present and unique (unlike the last name and first name)."
   ]
  },
  {
   "cell_type": "code",
   "execution_count": 14,
   "metadata": {
    "editable": true
   },
   "outputs": [],
   "source": [
    "create_table_query3 = \"\"\"\n",
    "CREATE TABLE IF NOT EXISTS song_listeners(\n",
    "song_title TEXT\n",
    ", user_id INT\n",
    ", first_name TEXT\n",
    ", last_name TEXT\n",
    ", PRIMARY KEY(song_title,user_id)\n",
    ")\n",
    "\"\"\"\n",
    "\n",
    "try:\n",
    "    session.execute(create_table_query3)\n",
    "except Exception as e:\n",
    "    print(e)"
   ]
  },
  {
   "cell_type": "code",
   "execution_count": null,
   "metadata": {
    "editable": true
   },
   "outputs": [],
   "source": [
    "insert_query3 = \"\"\"\n",
    "INSERT INTO song_listeners(\n",
    "song_title\n",
    ", user_id\n",
    ", first_name\n",
    ", last_name\n",
    ")\n",
    "VALUES (%s,%s,%s,%s)\n",
    "\"\"\"\n",
    "\n",
    "\n",
    "file = 'event_datafile_new.csv'\n",
    "with open(file, encoding = 'utf8') as f:\n",
    "    csvreader = csv.reader(f)\n",
    "    next(csvreader) # skip header\n",
    "    for line in csvreader:\n",
    "        # Identify the corresponding columns by line indexes\n",
    "        song_title = line[9]\n",
    "        user_id = int(line[10])\n",
    "        first_name = line[1]\n",
    "        last_name = line[4]\n",
    "        \n",
    "        # Execute the insert query\n",
    "        try:\n",
    "            session.execute(insert_query3, (song_title, user_id, first_name, last_name))\n",
    "        except Exception as e:\n",
    "            print(e)\n",
    "            break"
   ]
  },
  {
   "cell_type": "code",
   "execution_count": null,
   "metadata": {
    "editable": true
   },
   "outputs": [],
   "source": [
    "select_query3 = \"\"\"\n",
    "SELECT first_name, last_name FROM song_listeners \n",
    "WHERE song_title = 'All Hands Against His Own'\n",
    "\"\"\"\n",
    "\n",
    "try:\n",
    "    rows = session.execute(select_query3)\n",
    "    for row in rows:\n",
    "        print(row.first_name, row.last_name)\n",
    "except Exception as e:\n",
    "    print(e)"
   ]
  },
  {
   "cell_type": "markdown",
   "metadata": {
    "editable": true
   },
   "source": [
    "## 4. DROP TABLES"
   ]
  },
  {
   "cell_type": "code",
   "execution_count": null,
   "metadata": {
    "editable": true
   },
   "outputs": [],
   "source": [
    "drop_sessionid_sessionitem = \"DROP TABLE IF EXISTS sessionid_sessionitem\"\n",
    "drop_userid_sessionid = \"DROP TABLE IF EXISTS userid_sessionid\"\n",
    "drop_song_listeners = \"DROP TABLE IF EXISTS song_listeners\"\n",
    "\n",
    "drop_tables = [drop_sessionid_sessionitem,drop_userid_sessionid,drop_song_listeners]\n",
    "\n",
    "for query in drop_tables:\n",
    "    session.execute(query)"
   ]
  },
  {
   "cell_type": "markdown",
   "metadata": {
    "editable": true
   },
   "source": [
    "### Close the session and cluster connection¶"
   ]
  },
  {
   "cell_type": "code",
   "execution_count": null,
   "metadata": {
    "editable": true
   },
   "outputs": [],
   "source": [
    "session.shutdown()\n",
    "cluster.shutdown()"
   ]
  }
 ],
 "metadata": {
  "kernelspec": {
   "display_name": "Python 3",
   "language": "python",
   "name": "python3"
  },
  "language_info": {
   "codemirror_mode": {
    "name": "ipython",
    "version": 3
   },
   "file_extension": ".py",
   "mimetype": "text/x-python",
   "name": "python",
   "nbconvert_exporter": "python",
   "pygments_lexer": "ipython3",
   "version": "3.6.3"
  }
 },
 "nbformat": 4,
 "nbformat_minor": 4
}
